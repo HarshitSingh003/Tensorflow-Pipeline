{
 "cells": [
  {
   "cell_type": "code",
   "execution_count": 1,
   "id": "7cf4269f",
   "metadata": {},
   "outputs": [],
   "source": [
    "import tensorflow as tf\n"
   ]
  },
  {
   "cell_type": "code",
   "execution_count": 2,
   "id": "871e6e90",
   "metadata": {},
   "outputs": [],
   "source": [
    "text_ds=tf.data.Dataset.list_files('Reviews/*/*',shuffle=False)"
   ]
  },
  {
   "cell_type": "code",
   "execution_count": 3,
   "id": "490fcc89",
   "metadata": {},
   "outputs": [
    {
     "data": {
      "text/plain": [
       "<TensorSliceDataset element_spec=TensorSpec(shape=(), dtype=tf.string, name=None)>"
      ]
     },
     "execution_count": 3,
     "metadata": {},
     "output_type": "execute_result"
    }
   ],
   "source": [
    "text_ds"
   ]
  },
  {
   "cell_type": "code",
   "execution_count": 4,
   "id": "da60ce1c",
   "metadata": {},
   "outputs": [
    {
     "data": {
      "text/plain": [
       "4"
      ]
     },
     "execution_count": 4,
     "metadata": {},
     "output_type": "execute_result"
    }
   ],
   "source": [
    "len(text_ds)"
   ]
  },
  {
   "cell_type": "code",
   "execution_count": 5,
   "id": "0897133c",
   "metadata": {},
   "outputs": [
    {
     "data": {
      "text/plain": [
       "tensorflow.python.data.ops.dataset_ops.TensorSliceDataset"
      ]
     },
     "execution_count": 5,
     "metadata": {},
     "output_type": "execute_result"
    }
   ],
   "source": [
    "type(text_ds)"
   ]
  },
  {
   "cell_type": "code",
   "execution_count": 7,
   "id": "1a840afc",
   "metadata": {},
   "outputs": [
    {
     "name": "stdout",
     "output_type": "stream",
     "text": [
      "b'Reviews\\\\Negative\\\\Neg1.txt'\n",
      "b'Reviews\\\\Negative\\\\Neg2.txt'\n"
     ]
    }
   ],
   "source": [
    "for file in text_ds.take(2):\n",
    "    print(file.numpy())"
   ]
  },
  {
   "cell_type": "code",
   "execution_count": 10,
   "id": "337a14cf",
   "metadata": {},
   "outputs": [
    {
     "name": "stdout",
     "output_type": "stream",
     "text": [
      "b'Reviews\\\\Negative\\\\Neg1.txt'\n",
      "b'Reviews\\\\Negative\\\\Neg2.txt'\n"
     ]
    }
   ],
   "source": [
    "text_ds=text_ds.shuffle(1)\n",
    "for file in text_ds.take(2):\n",
    "    print(file.numpy())"
   ]
  },
  {
   "cell_type": "code",
   "execution_count": 12,
   "id": "04a31736",
   "metadata": {},
   "outputs": [],
   "source": [
    "def get_label(file_path):\n",
    "    import os\n",
    "    parts=tf.strings.split(file_path,os.path.sep)\n",
    "    return parts[-2]"
   ]
  },
  {
   "cell_type": "code",
   "execution_count": 13,
   "id": "88369034",
   "metadata": {},
   "outputs": [
    {
     "data": {
      "text/plain": [
       "<tf.Tensor: shape=(), dtype=string, numpy=b'Negative'>"
      ]
     },
     "execution_count": 13,
     "metadata": {},
     "output_type": "execute_result"
    }
   ],
   "source": [
    "get_label('Reviews\\\\Negative\\\\Neg1.txt')"
   ]
  },
  {
   "cell_type": "code",
   "execution_count": 16,
   "id": "323ff45b",
   "metadata": {},
   "outputs": [],
   "source": [
    "def process(file_path):\n",
    "    path=get_label(file_path)\n",
    "    new=tf.io.read_file(file_path)\n",
    "    return new,path"
   ]
  },
  {
   "cell_type": "code",
   "execution_count": 18,
   "id": "d51507cb",
   "metadata": {},
   "outputs": [],
   "source": [
    "img,label=process(\"Reviews\\\\Negative\\\\Neg1.txt\")"
   ]
  },
  {
   "cell_type": "code",
   "execution_count": 19,
   "id": "7d79fde6",
   "metadata": {},
   "outputs": [
    {
     "data": {
      "text/plain": [
       "(<tf.Tensor: shape=(), dtype=string, numpy=b\"Basically there's a family where a little boy (Jake) thinks there's a zombie in his closet & his parents are fighting all the time.<br /><br />This movie is slower than a soap opera... and suddenly, Jake decides to become Rambo and kill the zombie.<br /><br />OK, first of all when you're going to make a film you must Decide if its a thriller or a drama! As a drama the movie is watchable. Parents are divorcing & arguing like in real life. And then we have Jake with his closet which totally ruins all the film! I expected to see a BOOGEYMAN similar movie, and instead i watched a drama with some meaningless thriller spots.<br /><br />3 out of 10 just for the well playing parents & descent dialogs. As for the shots with Jake: just ignore them.\">,\n",
       " <tf.Tensor: shape=(), dtype=string, numpy=b'Negative'>)"
      ]
     },
     "execution_count": 19,
     "metadata": {},
     "output_type": "execute_result"
    }
   ],
   "source": [
    "img,label"
   ]
  },
  {
   "cell_type": "code",
   "execution_count": 20,
   "id": "d1df4524",
   "metadata": {},
   "outputs": [],
   "source": [
    "review_ds_label=text_ds.map(get_label)"
   ]
  },
  {
   "cell_type": "code",
   "execution_count": 24,
   "id": "ce0eca35",
   "metadata": {},
   "outputs": [
    {
     "data": {
      "text/plain": [
       "<MapDataset element_spec=TensorSpec(shape=(), dtype=tf.string, name=None)>"
      ]
     },
     "execution_count": 24,
     "metadata": {},
     "output_type": "execute_result"
    }
   ],
   "source": [
    "review_ds_label"
   ]
  },
  {
   "cell_type": "code",
   "execution_count": null,
   "id": "5cb39f64",
   "metadata": {},
   "outputs": [],
   "source": []
  }
 ],
 "metadata": {
  "kernelspec": {
   "display_name": "Python 3 (ipykernel)",
   "language": "python",
   "name": "python3"
  },
  "language_info": {
   "codemirror_mode": {
    "name": "ipython",
    "version": 3
   },
   "file_extension": ".py",
   "mimetype": "text/x-python",
   "name": "python",
   "nbconvert_exporter": "python",
   "pygments_lexer": "ipython3",
   "version": "3.10.0"
  }
 },
 "nbformat": 4,
 "nbformat_minor": 5
}
