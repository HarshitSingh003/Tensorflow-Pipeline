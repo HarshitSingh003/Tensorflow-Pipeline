{
 "cells": [
  {
   "cell_type": "code",
   "execution_count": 63,
   "id": "803b23cc",
   "metadata": {},
   "outputs": [],
   "source": [
    "import tensorflow as tf"
   ]
  },
  {
   "cell_type": "code",
   "execution_count": 64,
   "id": "d8228b61",
   "metadata": {},
   "outputs": [],
   "source": [
    "daily_sales_numbers=[21,22,-108,31,-1,32,34,31]\n"
   ]
  },
  {
   "cell_type": "code",
   "execution_count": 65,
   "id": "ed4b29e9",
   "metadata": {},
   "outputs": [],
   "source": [
    "tf_dataset=tf.data.Dataset.from_tensor_slices(daily_sales_numbers)"
   ]
  },
  {
   "cell_type": "code",
   "execution_count": 66,
   "id": "c0544245",
   "metadata": {},
   "outputs": [
    {
     "name": "stdout",
     "output_type": "stream",
     "text": [
      "21\n",
      "22\n",
      "-108\n",
      "31\n",
      "-1\n",
      "32\n",
      "34\n",
      "31\n"
     ]
    }
   ],
   "source": [
    "for sales in tf_dataset:\n",
    "    print(sales.numpy())"
   ]
  },
  {
   "cell_type": "code",
   "execution_count": 67,
   "id": "126e0a4d",
   "metadata": {},
   "outputs": [
    {
     "name": "stdout",
     "output_type": "stream",
     "text": [
      "21\n",
      "22\n",
      "-108\n",
      "31\n",
      "-1\n",
      "32\n",
      "34\n",
      "31\n"
     ]
    }
   ],
   "source": [
    "for sales in tf_dataset.as_numpy_iterator():\n",
    "    print(sales)"
   ]
  },
  {
   "cell_type": "code",
   "execution_count": 68,
   "id": "f6cbfae8",
   "metadata": {},
   "outputs": [
    {
     "name": "stdout",
     "output_type": "stream",
     "text": [
      "tf.Tensor(21, shape=(), dtype=int32)\n",
      "tf.Tensor(22, shape=(), dtype=int32)\n",
      "tf.Tensor(-108, shape=(), dtype=int32)\n"
     ]
    }
   ],
   "source": [
    "for sales in tf_dataset.take(3):\n",
    "    print(sales)"
   ]
  },
  {
   "cell_type": "code",
   "execution_count": 69,
   "id": "ca0c716c",
   "metadata": {},
   "outputs": [
    {
     "name": "stdout",
     "output_type": "stream",
     "text": [
      "21\n",
      "22\n",
      "-108\n"
     ]
    }
   ],
   "source": [
    "for sales in tf_dataset.take(3):\n",
    "    print(sales.numpy())"
   ]
  },
  {
   "cell_type": "code",
   "execution_count": 70,
   "id": "491f7089",
   "metadata": {},
   "outputs": [
    {
     "name": "stdout",
     "output_type": "stream",
     "text": [
      "21\n",
      "22\n",
      "31\n",
      "32\n",
      "34\n",
      "31\n"
     ]
    }
   ],
   "source": [
    "tf_dataset=tf_dataset.filter(lambda x:x>0)\n",
    "for sales in tf_dataset.as_numpy_iterator():\n",
    "    print(sales)"
   ]
  },
  {
   "cell_type": "code",
   "execution_count": 71,
   "id": "9f99d5d4",
   "metadata": {},
   "outputs": [],
   "source": [
    "tf_dataset=tf_dataset.map(lambda x:x*72)"
   ]
  },
  {
   "cell_type": "code",
   "execution_count": 72,
   "id": "f5d2614a",
   "metadata": {},
   "outputs": [
    {
     "name": "stdout",
     "output_type": "stream",
     "text": [
      "1584\n",
      "2304\n",
      "1512\n",
      "2232\n",
      "2448\n",
      "2232\n"
     ]
    }
   ],
   "source": [
    "tf_dataset=tf_dataset.shuffle(3)\n",
    "for sales in tf_dataset.as_numpy_iterator():\n",
    "    print(sales)\n",
    "#want to see what batches do then go to stackoverflow and research accordingly"
   ]
  },
  {
   "cell_type": "code",
   "execution_count": 73,
   "id": "6c659bb3",
   "metadata": {},
   "outputs": [
    {
     "name": "stdout",
     "output_type": "stream",
     "text": [
      "1512\n",
      "2304\n",
      "2232\n",
      "1584\n",
      "2232\n",
      "2448\n"
     ]
    }
   ],
   "source": [
    "tf_dataset = tf_dataset.shuffle(2)\n",
    "for sales in tf_dataset.as_numpy_iterator():\n",
    "    print(sales)"
   ]
  },
  {
   "cell_type": "code",
   "execution_count": 74,
   "id": "ef06bf51",
   "metadata": {},
   "outputs": [
    {
     "name": "stdout",
     "output_type": "stream",
     "text": [
      "[2232 2304]\n",
      "[1584 2232]\n",
      "[1512 2448]\n"
     ]
    }
   ],
   "source": [
    "for sales_batch in tf_dataset.batch(2):\n",
    "    print(sales_batch.numpy())"
   ]
  },
  {
   "cell_type": "markdown",
   "id": "66589e15",
   "metadata": {},
   "source": [
    "# Creating a chain or Pipeline "
   ]
  },
  {
   "cell_type": "code",
   "execution_count": 75,
   "id": "3f2e9086",
   "metadata": {},
   "outputs": [
    {
     "name": "stdout",
     "output_type": "stream",
     "text": [
      "[1512 2232]\n",
      "[2304 2448]\n",
      "[1584 2232]\n"
     ]
    }
   ],
   "source": [
    "tf_dataset=tf.data.Dataset.from_tensor_slices(daily_sales_numbers)\n",
    "tf_dataset=tf_dataset.filter(lambda x:x>0).map(lambda y:y*72).shuffle(2).batch(2)\n",
    "for sales in tf_dataset.as_numpy_iterator():\n",
    "    print(sales)"
   ]
  },
  {
   "cell_type": "code",
   "execution_count": 76,
   "id": "2f15ef3b",
   "metadata": {},
   "outputs": [
    {
     "name": "stdout",
     "output_type": "stream",
     "text": [
      "<bound method _EagerTensorBase.numpy of <tf.Tensor: shape=(), dtype=string, numpy=b'Images\\\\Cat\\\\10 Facts about Cats - Companion Animals.jpg'>>\n",
      "<bound method _EagerTensorBase.numpy of <tf.Tensor: shape=(), dtype=string, numpy=b'Images\\\\Cat\\\\10_000_ Best Cat Photos \\xc2\\xb7 100_ Free.jpeg'>>\n",
      "<bound method _EagerTensorBase.numpy of <tf.Tensor: shape=(), dtype=string, numpy=b'Images\\\\Cat\\\\11 Stunning Persian Cats.jpg'>>\n"
     ]
    }
   ],
   "source": [
    "images_ds=tf.data.Dataset.list_files('Images/*/*',shuffle=False)\n",
    "for file in images_ds.take(3):\n",
    "    print(file.numpy)"
   ]
  },
  {
   "cell_type": "code",
   "execution_count": 77,
   "id": "7c30059e",
   "metadata": {},
   "outputs": [
    {
     "name": "stdout",
     "output_type": "stream",
     "text": [
      "b'Images\\\\Cat\\\\199_181 Cats Photos - Free & Royalty.jpg'\n",
      "b'Images\\\\Cat\\\\How do cats get their stripes_ _ Live.jpg'\n",
      "b'Images\\\\Cat\\\\Download Free Cats Stock Photos & HD Images.jpeg'\n"
     ]
    }
   ],
   "source": [
    "images_ds=images_ds.shuffle(25)\n",
    "for file in images_ds.take(3):\n",
    "    print(file.numpy())"
   ]
  },
  {
   "cell_type": "code",
   "execution_count": 78,
   "id": "b11e715b",
   "metadata": {},
   "outputs": [],
   "source": [
    "class_names=['Cat','Dog']"
   ]
  },
  {
   "cell_type": "code",
   "execution_count": 79,
   "id": "19e69d44",
   "metadata": {},
   "outputs": [
    {
     "data": {
      "text/plain": [
       "82"
      ]
     },
     "execution_count": 79,
     "metadata": {},
     "output_type": "execute_result"
    }
   ],
   "source": [
    "image_count=len(images_ds)\n",
    "image_count"
   ]
  },
  {
   "cell_type": "code",
   "execution_count": 80,
   "id": "e104ee6f",
   "metadata": {},
   "outputs": [],
   "source": [
    "train_size=int(image_count*0.8)\n",
    "train_ds=images_ds.take(train_size)\n",
    "test_ds=images_ds.skip(train_size)\n"
   ]
  },
  {
   "cell_type": "code",
   "execution_count": 81,
   "id": "bad4c4a7",
   "metadata": {},
   "outputs": [
    {
     "data": {
      "text/plain": [
       "65"
      ]
     },
     "execution_count": 81,
     "metadata": {},
     "output_type": "execute_result"
    }
   ],
   "source": [
    "len(train_ds)"
   ]
  },
  {
   "cell_type": "code",
   "execution_count": 82,
   "id": "abe4c45d",
   "metadata": {},
   "outputs": [
    {
     "data": {
      "text/plain": [
       "'Cat'"
      ]
     },
     "execution_count": 82,
     "metadata": {},
     "output_type": "execute_result"
    }
   ],
   "source": [
    "s='Images\\\\Cat\\\\10 Facts about Cats - Companion Animals.jpg'\n",
    "s.split(\"\\\\\")[-2]"
   ]
  },
  {
   "cell_type": "markdown",
   "id": "75f6c12a",
   "metadata": {},
   "source": [
    "# Fetching File Label from here"
   ]
  },
  {
   "cell_type": "code",
   "execution_count": 83,
   "id": "33cf9aa6",
   "metadata": {},
   "outputs": [],
   "source": [
    "import os"
   ]
  },
  {
   "cell_type": "code",
   "execution_count": 84,
   "id": "80bcfd65",
   "metadata": {},
   "outputs": [],
   "source": [
    "def get_label(file_path):\n",
    "    return tf.strings.split(file_path,os.path.sep)[-2]"
   ]
  },
  {
   "cell_type": "code",
   "execution_count": 85,
   "id": "7b978ede",
   "metadata": {},
   "outputs": [
    {
     "data": {
      "text/plain": [
       "<tf.Tensor: shape=(), dtype=string, numpy=b'Cat'>"
      ]
     },
     "execution_count": 85,
     "metadata": {},
     "output_type": "execute_result"
    }
   ],
   "source": [
    "get_label(\"Images\\\\Cat\\\\10 Facts about Cats - Companion Animals.jpg\")"
   ]
  },
  {
   "cell_type": "code",
   "execution_count": 86,
   "id": "df00d70f",
   "metadata": {},
   "outputs": [],
   "source": [
    "def process_img(file_path):\n",
    "    label=get_label(file_path)\n",
    "    img=tf.ip.read_file(file_path)\n",
    "    img=tf.image.decode_jpeg(img)\n",
    "    img=tf.image.resize(img,[128,128])\n",
    "    return img,label"
   ]
  },
  {
   "cell_type": "code",
   "execution_count": 87,
   "id": "5c9a8cfa",
   "metadata": {},
   "outputs": [
    {
     "ename": "NotFoundError",
     "evalue": "{{function_node __wrapped__ReadFile_device_/job:localhost/replica:0/task:0/device:CPU:0}} NewRandomAccessFile failed to Create/Open: images\\cat\\20 Reasons Why Cats Make the Best Pets....jpg : The system cannot find the file specified.\r\n; No such file or directory [Op:ReadFile]",
     "output_type": "error",
     "traceback": [
      "\u001b[1;31m---------------------------------------------------------------------------\u001b[0m",
      "\u001b[1;31mNotFoundError\u001b[0m                             Traceback (most recent call last)",
      "\u001b[1;32m~\\AppData\\Local\\Temp/ipykernel_12524/2071990025.py\u001b[0m in \u001b[0;36m<module>\u001b[1;34m\u001b[0m\n\u001b[1;32m----> 1\u001b[1;33m \u001b[0mimg\u001b[0m\u001b[1;33m,\u001b[0m \u001b[0mlabel\u001b[0m \u001b[1;33m=\u001b[0m \u001b[0mprocess_image\u001b[0m\u001b[1;33m(\u001b[0m\u001b[1;34m\"images\\\\cat\\\\20 Reasons Why Cats Make the Best Pets....jpg\"\u001b[0m\u001b[1;33m)\u001b[0m\u001b[1;33m\u001b[0m\u001b[1;33m\u001b[0m\u001b[0m\n\u001b[0m\u001b[0;32m      2\u001b[0m \u001b[0mimg\u001b[0m\u001b[1;33m.\u001b[0m\u001b[0mnumpy\u001b[0m\u001b[1;33m(\u001b[0m\u001b[1;33m)\u001b[0m\u001b[1;33m[\u001b[0m\u001b[1;33m:\u001b[0m\u001b[1;36m2\u001b[0m\u001b[1;33m]\u001b[0m\u001b[1;33m\u001b[0m\u001b[1;33m\u001b[0m\u001b[0m\n",
      "\u001b[1;32m~\\AppData\\Local\\Temp/ipykernel_12524/1610457417.py\u001b[0m in \u001b[0;36mprocess_image\u001b[1;34m(file_path)\u001b[0m\n\u001b[0;32m      1\u001b[0m \u001b[1;32mdef\u001b[0m \u001b[0mprocess_image\u001b[0m\u001b[1;33m(\u001b[0m\u001b[0mfile_path\u001b[0m\u001b[1;33m)\u001b[0m\u001b[1;33m:\u001b[0m\u001b[1;33m\u001b[0m\u001b[1;33m\u001b[0m\u001b[0m\n\u001b[0;32m      2\u001b[0m     \u001b[0mlabel\u001b[0m\u001b[1;33m=\u001b[0m\u001b[0mget_label\u001b[0m\u001b[1;33m(\u001b[0m\u001b[0mfile_path\u001b[0m\u001b[1;33m)\u001b[0m\u001b[1;33m\u001b[0m\u001b[1;33m\u001b[0m\u001b[0m\n\u001b[1;32m----> 3\u001b[1;33m     \u001b[0mimg\u001b[0m\u001b[1;33m=\u001b[0m\u001b[0mtf\u001b[0m\u001b[1;33m.\u001b[0m\u001b[0mio\u001b[0m\u001b[1;33m.\u001b[0m\u001b[0mread_file\u001b[0m\u001b[1;33m(\u001b[0m\u001b[0mfile_path\u001b[0m\u001b[1;33m)\u001b[0m\u001b[1;33m\u001b[0m\u001b[1;33m\u001b[0m\u001b[0m\n\u001b[0m\u001b[0;32m      4\u001b[0m     \u001b[0mimg\u001b[0m\u001b[1;33m=\u001b[0m\u001b[0mtf\u001b[0m\u001b[1;33m.\u001b[0m\u001b[0mimage\u001b[0m\u001b[1;33m.\u001b[0m\u001b[0mdecode_jpeg\u001b[0m\u001b[1;33m(\u001b[0m\u001b[0mimg\u001b[0m\u001b[1;33m)\u001b[0m\u001b[1;33m\u001b[0m\u001b[1;33m\u001b[0m\u001b[0m\n\u001b[0;32m      5\u001b[0m     \u001b[0mimg\u001b[0m\u001b[1;33m=\u001b[0m\u001b[0mtf\u001b[0m\u001b[1;33m.\u001b[0m\u001b[0mimage\u001b[0m\u001b[1;33m.\u001b[0m\u001b[0mresize\u001b[0m\u001b[1;33m(\u001b[0m\u001b[0mimg\u001b[0m\u001b[1;33m,\u001b[0m\u001b[1;33m[\u001b[0m\u001b[1;36m128\u001b[0m\u001b[1;33m,\u001b[0m\u001b[1;36m128\u001b[0m\u001b[1;33m]\u001b[0m\u001b[1;33m)\u001b[0m\u001b[1;33m\u001b[0m\u001b[1;33m\u001b[0m\u001b[0m\n",
      "\u001b[1;32m~\\AppData\\Local\\Programs\\Python\\Python310\\lib\\site-packages\\tensorflow\\python\\ops\\io_ops.py\u001b[0m in \u001b[0;36mread_file\u001b[1;34m(filename, name)\u001b[0m\n\u001b[0;32m    131\u001b[0m     \u001b[0mA\u001b[0m \u001b[0mtensor\u001b[0m \u001b[0mof\u001b[0m \u001b[0mdtype\u001b[0m \u001b[1;34m\"string\"\u001b[0m\u001b[1;33m,\u001b[0m \u001b[1;32mwith\u001b[0m \u001b[0mthe\u001b[0m \u001b[0mfile\u001b[0m \u001b[0mcontents\u001b[0m\u001b[1;33m.\u001b[0m\u001b[1;33m\u001b[0m\u001b[1;33m\u001b[0m\u001b[0m\n\u001b[0;32m    132\u001b[0m   \"\"\"\n\u001b[1;32m--> 133\u001b[1;33m   \u001b[1;32mreturn\u001b[0m \u001b[0mgen_io_ops\u001b[0m\u001b[1;33m.\u001b[0m\u001b[0mread_file\u001b[0m\u001b[1;33m(\u001b[0m\u001b[0mfilename\u001b[0m\u001b[1;33m,\u001b[0m \u001b[0mname\u001b[0m\u001b[1;33m)\u001b[0m\u001b[1;33m\u001b[0m\u001b[1;33m\u001b[0m\u001b[0m\n\u001b[0m\u001b[0;32m    134\u001b[0m \u001b[1;33m\u001b[0m\u001b[0m\n\u001b[0;32m    135\u001b[0m \u001b[1;33m\u001b[0m\u001b[0m\n",
      "\u001b[1;32m~\\AppData\\Local\\Programs\\Python\\Python310\\lib\\site-packages\\tensorflow\\python\\ops\\gen_io_ops.py\u001b[0m in \u001b[0;36mread_file\u001b[1;34m(filename, name)\u001b[0m\n\u001b[0;32m    579\u001b[0m       \u001b[1;32mpass\u001b[0m\u001b[1;33m\u001b[0m\u001b[1;33m\u001b[0m\u001b[0m\n\u001b[0;32m    580\u001b[0m     \u001b[1;32mtry\u001b[0m\u001b[1;33m:\u001b[0m\u001b[1;33m\u001b[0m\u001b[1;33m\u001b[0m\u001b[0m\n\u001b[1;32m--> 581\u001b[1;33m       return read_file_eager_fallback(\n\u001b[0m\u001b[0;32m    582\u001b[0m           filename, name=name, ctx=_ctx)\n\u001b[0;32m    583\u001b[0m     \u001b[1;32mexcept\u001b[0m \u001b[0m_core\u001b[0m\u001b[1;33m.\u001b[0m\u001b[0m_SymbolicException\u001b[0m\u001b[1;33m:\u001b[0m\u001b[1;33m\u001b[0m\u001b[1;33m\u001b[0m\u001b[0m\n",
      "\u001b[1;32m~\\AppData\\Local\\Programs\\Python\\Python310\\lib\\site-packages\\tensorflow\\python\\ops\\gen_io_ops.py\u001b[0m in \u001b[0;36mread_file_eager_fallback\u001b[1;34m(filename, name, ctx)\u001b[0m\n\u001b[0;32m    602\u001b[0m   \u001b[0m_inputs_flat\u001b[0m \u001b[1;33m=\u001b[0m \u001b[1;33m[\u001b[0m\u001b[0mfilename\u001b[0m\u001b[1;33m]\u001b[0m\u001b[1;33m\u001b[0m\u001b[1;33m\u001b[0m\u001b[0m\n\u001b[0;32m    603\u001b[0m   \u001b[0m_attrs\u001b[0m \u001b[1;33m=\u001b[0m \u001b[1;32mNone\u001b[0m\u001b[1;33m\u001b[0m\u001b[1;33m\u001b[0m\u001b[0m\n\u001b[1;32m--> 604\u001b[1;33m   _result = _execute.execute(b\"ReadFile\", 1, inputs=_inputs_flat,\n\u001b[0m\u001b[0;32m    605\u001b[0m                              attrs=_attrs, ctx=ctx, name=name)\n\u001b[0;32m    606\u001b[0m   \u001b[1;32mif\u001b[0m \u001b[0m_execute\u001b[0m\u001b[1;33m.\u001b[0m\u001b[0mmust_record_gradient\u001b[0m\u001b[1;33m(\u001b[0m\u001b[1;33m)\u001b[0m\u001b[1;33m:\u001b[0m\u001b[1;33m\u001b[0m\u001b[1;33m\u001b[0m\u001b[0m\n",
      "\u001b[1;32m~\\AppData\\Local\\Programs\\Python\\Python310\\lib\\site-packages\\tensorflow\\python\\eager\\execute.py\u001b[0m in \u001b[0;36mquick_execute\u001b[1;34m(op_name, num_outputs, inputs, attrs, ctx, name)\u001b[0m\n\u001b[0;32m     52\u001b[0m   \u001b[1;32mtry\u001b[0m\u001b[1;33m:\u001b[0m\u001b[1;33m\u001b[0m\u001b[1;33m\u001b[0m\u001b[0m\n\u001b[0;32m     53\u001b[0m     \u001b[0mctx\u001b[0m\u001b[1;33m.\u001b[0m\u001b[0mensure_initialized\u001b[0m\u001b[1;33m(\u001b[0m\u001b[1;33m)\u001b[0m\u001b[1;33m\u001b[0m\u001b[1;33m\u001b[0m\u001b[0m\n\u001b[1;32m---> 54\u001b[1;33m     tensors = pywrap_tfe.TFE_Py_Execute(ctx._handle, device_name, op_name,\n\u001b[0m\u001b[0;32m     55\u001b[0m                                         inputs, attrs, num_outputs)\n\u001b[0;32m     56\u001b[0m   \u001b[1;32mexcept\u001b[0m \u001b[0mcore\u001b[0m\u001b[1;33m.\u001b[0m\u001b[0m_NotOkStatusException\u001b[0m \u001b[1;32mas\u001b[0m \u001b[0me\u001b[0m\u001b[1;33m:\u001b[0m\u001b[1;33m\u001b[0m\u001b[1;33m\u001b[0m\u001b[0m\n",
      "\u001b[1;31mNotFoundError\u001b[0m: {{function_node __wrapped__ReadFile_device_/job:localhost/replica:0/task:0/device:CPU:0}} NewRandomAccessFile failed to Create/Open: images\\cat\\20 Reasons Why Cats Make the Best Pets....jpg : The system cannot find the file specified.\r\n; No such file or directory [Op:ReadFile]"
     ]
    }
   ],
   "source": [
    "img, label = process_image(\"images\\\\cat\\\\20 Reasons Why Cats Make the Best Pets....jpg\")\n",
    "img.numpy()[:2]"
   ]
  },
  {
   "cell_type": "code",
   "execution_count": 53,
   "id": "668cb8c3",
   "metadata": {},
   "outputs": [],
   "source": []
  },
  {
   "cell_type": "code",
   "execution_count": 88,
   "id": "4208d8b8",
   "metadata": {},
   "outputs": [],
   "source": [
    "train_ds = train_ds.map(process_image)\n",
    "test_ds = test_ds.map(process_image)"
   ]
  },
  {
   "cell_type": "code",
   "execution_count": 89,
   "id": "e7b7df43",
   "metadata": {},
   "outputs": [
    {
     "name": "stdout",
     "output_type": "stream",
     "text": [
      "**** tf.Tensor(\n",
      "[[[100.899414   164.42383     82.384766  ]\n",
      "  [ 93.50488    141.72363     74.53711   ]\n",
      "  [ 92.9834     123.7334      50.469727  ]\n",
      "  ...\n",
      "  [126.28223    176.01465    113.74805   ]\n",
      "  [115.09766    165.81445     92.28418   ]\n",
      "  [103.96387    165.2793      82.396484  ]]\n",
      "\n",
      " [[ 80.79297    142.63086     52.229492  ]\n",
      "  [ 98.93848    156.78906     70.80469   ]\n",
      "  [118.1875     153.86816     71.68555   ]\n",
      "  ...\n",
      "  [108.921875   162.39062     66.74219   ]\n",
      "  [100.74805    159.57715     57.05957   ]\n",
      "  [108.87598    163.62402     72.49121   ]]\n",
      "\n",
      " [[118.265625   168.91699     85.2207    ]\n",
      "  [ 96.62695    157.12695     71.25195   ]\n",
      "  [100.70801    157.02539     75.06738   ]\n",
      "  ...\n",
      "  [132.57812    162.72168     66.32617   ]\n",
      "  [ 94.76465    156.38867     47.72168   ]\n",
      "  [104.92676    161.78711     59.03711   ]]\n",
      "\n",
      " ...\n",
      "\n",
      " [[101.052734   189.76953     70.4209    ]\n",
      "  [ 96.265625   139.92969     42.5625    ]\n",
      "  [ 83.59277    117.677734    20.54004   ]\n",
      "  ...\n",
      "  [ 73.7207     130.33105     48.106445  ]\n",
      "  [ 79.32324    149.05762     27.101562  ]\n",
      "  [ 98.98828    167.45801     35.13867   ]]\n",
      "\n",
      " [[107.06738    186.95801     76.56641   ]\n",
      "  [ 23.382812    94.49512      0.51464844]\n",
      "  [ 54.791016   107.50195      4.573242  ]\n",
      "  ...\n",
      "  [ 81.93164    121.45996     31.833008  ]\n",
      "  [ 88.549805   142.21582     33.492188  ]\n",
      "  [ 99.796875   155.0332      20.282227  ]]\n",
      "\n",
      " [[ 97.44922    151.77734     28.10254   ]\n",
      "  [ 96.7666     150.21875     41.132812  ]\n",
      "  [ 91.08301    139.59082     12.402344  ]\n",
      "  ...\n",
      "  [ 38.041992    95.66699      0.3251953 ]\n",
      "  [101.828125   168.16406    101.32617   ]\n",
      "  [ 75.6709     133.75977     10.999023  ]]], shape=(128, 128, 3), dtype=float32)\n",
      "**** tf.Tensor(b'Cat', shape=(), dtype=string)\n"
     ]
    }
   ],
   "source": [
    "for image, label in train_ds.take(1):\n",
    "    print(\"****\",image)\n",
    "    print(\"****\",label)"
   ]
  },
  {
   "cell_type": "code",
   "execution_count": 90,
   "id": "45acd525",
   "metadata": {},
   "outputs": [
    {
     "data": {
      "text/plain": [
       "<tf.Tensor: shape=(), dtype=string, numpy=b'Dog'>"
      ]
     },
     "execution_count": 90,
     "metadata": {},
     "output_type": "execute_result"
    }
   ],
   "source": [
    "get_label(\"images\\\\Dog\\\\\")"
   ]
  },
  {
   "cell_type": "code",
   "execution_count": 91,
   "id": "00d80be4",
   "metadata": {},
   "outputs": [],
   "source": [
    "def scale(image, label):\n",
    "    return image/255, label"
   ]
  },
  {
   "cell_type": "code",
   "execution_count": 92,
   "id": "8d83db1a",
   "metadata": {},
   "outputs": [],
   "source": [
    "train_ds = train_ds.map(scale)"
   ]
  },
  {
   "cell_type": "code",
   "execution_count": 93,
   "id": "8e1fe4b8",
   "metadata": {},
   "outputs": [
    {
     "name": "stdout",
     "output_type": "stream",
     "text": [
      "****Image:  [1. 1. 1.]\n",
      "****Label:  b'Cat'\n",
      "****Image:  [0.00116422 0.00208333 0.00162377]\n",
      "****Label:  b'Cat'\n",
      "****Image:  [0.6486558  0.47610676 0.44081265]\n",
      "****Label:  b'Cat'\n",
      "****Image:  [0.15171503 0.11502691 0.08478794]\n",
      "****Label:  b'Cat'\n",
      "****Image:  [0.90588236 0.9254902  0.9490196 ]\n",
      "****Label:  b'Cat'\n"
     ]
    }
   ],
   "source": [
    "for image, label in train_ds.take(5):\n",
    "    print(\"****Image: \",image.numpy()[0][0])\n",
    "    print(\"****Label: \",label.numpy())"
   ]
  },
  {
   "cell_type": "code",
   "execution_count": null,
   "id": "a4d3605f",
   "metadata": {},
   "outputs": [],
   "source": []
  }
 ],
 "metadata": {
  "kernelspec": {
   "display_name": "Python 3 (ipykernel)",
   "language": "python",
   "name": "python3"
  },
  "language_info": {
   "codemirror_mode": {
    "name": "ipython",
    "version": 3
   },
   "file_extension": ".py",
   "mimetype": "text/x-python",
   "name": "python",
   "nbconvert_exporter": "python",
   "pygments_lexer": "ipython3",
   "version": "3.10.0"
  }
 },
 "nbformat": 4,
 "nbformat_minor": 5
}
